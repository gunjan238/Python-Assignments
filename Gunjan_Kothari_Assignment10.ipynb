{
  "nbformat": 4,
  "nbformat_minor": 0,
  "metadata": {
    "colab": {
      "provenance": [],
      "authorship_tag": "ABX9TyMqclcjGaYXODQDPAtQoO9t",
      "include_colab_link": true
    },
    "kernelspec": {
      "name": "python3",
      "display_name": "Python 3"
    },
    "language_info": {
      "name": "python"
    }
  },
  "cells": [
    {
      "cell_type": "markdown",
      "metadata": {
        "id": "view-in-github",
        "colab_type": "text"
      },
      "source": [
        "<a href=\"https://colab.research.google.com/github/gunjan238/Python-Assignments/blob/master/Gunjan_Kothari_Assignment10.ipynb\" target=\"_parent\"><img src=\"https://colab.research.google.com/assets/colab-badge.svg\" alt=\"Open In Colab\"/></a>"
      ]
    },
    {
      "cell_type": "markdown",
      "source": [
        "##**ASSIGNMENT 10**"
      ],
      "metadata": {
        "id": "O8Uij6KC1fYl"
      }
    },
    {
      "cell_type": "markdown",
      "source": [
        "Write a Python function sumsquare(l) that takes a nonempty list of integers and returns a list [odd,even], where odd is the sum of squares all the odd numbers in l and even is the sum of squares of all the even numbers in l."
      ],
      "metadata": {
        "id": "QfXd3XIN1xbu"
      }
    },
    {
      "cell_type": "code",
      "execution_count": null,
      "metadata": {
        "colab": {
          "base_uri": "https://localhost:8080/"
        },
        "id": "xoZstK4H1ec2",
        "outputId": "9e9589da-38ba-4ceb-f079-e7e238c64446"
      },
      "outputs": [
        {
          "output_type": "stream",
          "name": "stdout",
          "text": [
            "[7286, 1864]\n"
          ]
        }
      ],
      "source": [
        "l=[8,7,6,9,13,23,42,77,23]\n",
        "\n",
        "def sumsquare(l):\n",
        "\n",
        "   odd=0\n",
        "\n",
        "   even=0\n",
        "\n",
        "   for i in l:\n",
        "\n",
        "       if i%2==0:\n",
        "\n",
        "           even = even + i**2\n",
        "\n",
        "       else:\n",
        "\n",
        "           odd = odd + i**2\n",
        "\n",
        "   l=[odd,even]\n",
        "\n",
        "   return(l)\n",
        "  \n",
        "print(sumsquare(l))"
      ]
    }
  ]
}