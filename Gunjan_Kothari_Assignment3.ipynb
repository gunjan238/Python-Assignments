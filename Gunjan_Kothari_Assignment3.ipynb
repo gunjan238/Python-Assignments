{
  "nbformat": 4,
  "nbformat_minor": 0,
  "metadata": {
    "colab": {
      "provenance": [],
      "authorship_tag": "ABX9TyMGhURmaEvPL7RIbCWvmWzq",
      "include_colab_link": true
    },
    "kernelspec": {
      "name": "python3",
      "display_name": "Python 3"
    },
    "language_info": {
      "name": "python"
    }
  },
  "cells": [
    {
      "cell_type": "markdown",
      "metadata": {
        "id": "view-in-github",
        "colab_type": "text"
      },
      "source": [
        "<a href=\"https://colab.research.google.com/github/gunjan238/Python-Assignments/blob/master/Gunjan_Kothari_Assignment3.ipynb\" target=\"_parent\"><img src=\"https://colab.research.google.com/assets/colab-badge.svg\" alt=\"Open In Colab\"/></a>"
      ]
    },
    {
      "cell_type": "markdown",
      "source": [
        "##**ASSIGNMENT 3**\n",
        "\n"
      ],
      "metadata": {
        "id": "l-4XbW6jZMLy"
      }
    },
    {
      "cell_type": "markdown",
      "source": [
        "To simulate simple calculator that performs basic tasks such as addition,subtraction,multiplication and division with special operations like computing xy and x!."
      ],
      "metadata": {
        "id": "Qg9gSx1fZvJi"
      }
    },
    {
      "cell_type": "code",
      "source": [
        "import math"
      ],
      "metadata": {
        "id": "fCYXlGcPfdOc"
      },
      "execution_count": 3,
      "outputs": []
    },
    {
      "cell_type": "code",
      "execution_count": 10,
      "metadata": {
        "colab": {
          "base_uri": "https://localhost:8080/"
        },
        "id": "N9Nnw29PZEdt",
        "outputId": "91b70a4f-dce4-41ca-e8af-d828b519362e"
      },
      "outputs": [
        {
          "output_type": "stream",
          "name": "stdout",
          "text": [
            "Please select operation:\n",
            "1. Add\n",
            "2. Subtract\n",
            "3. Multiply\n",
            "4. Division\n",
            "5. Factorial\n",
            "\n",
            "Select operation from 1,2,3,4,5 :3\n",
            "Enter a number1:22\n",
            "Enter a number2:12\n",
            "22 * 12 = 264\n"
          ]
        }
      ],
      "source": [
        "#Python program for a simple calculator\n",
        "\n",
        "#Function to add numbers\n",
        "def add(num1,num2):\n",
        "  return num1 + num2\n",
        "\n",
        "#Function to subtract numbers\n",
        "def subtract(num1,num2):\n",
        "  return num1 - num2\n",
        "\n",
        "#Function to multiply numbers\n",
        "def multiply(num1,num2):\n",
        "  return num1 * num2\n",
        "\n",
        "#Function to divide numbers\n",
        "def divide(num1,num2):\n",
        "  return num1/num2\n",
        "\n",
        "#Function to get factorial of number\n",
        "def factorial(num1):\n",
        "  return(math.factorial(num1))\n",
        "\n",
        "\n",
        "print(\"Please select operation:\\n\"\\\n",
        "      \"1. Add\\n\"\\\n",
        "      \"2. Subtract\\n\"\\\n",
        "      \"3. Multiply\\n\"\\\n",
        "      \"4. Division\\n\"\\\n",
        "      \"5. Factorial\\n\")\n",
        "\n",
        "#Take input from users\n",
        "choice = int(input(\"Select operation from 1,2,3,4,5 :\"))\n",
        "num1 = int(input(\"Enter a number1:\"))\n",
        "num2 = int(input(\"Enter a number2:\"))\n",
        "\n",
        "if choice == 1:\n",
        "  print(num1,\"+\",num2,\"=\",add(num1,num2))\n",
        "\n",
        "elif choice == 2:\n",
        "  print(num1,\"-\",num2,\"=\",subtract(num1,num2))\n",
        "\n",
        "elif choice == 3:\n",
        "  print(num1,\"*\",num2,\"=\",multiply(num1,num2))\n",
        "\n",
        "elif choice == 4:\n",
        "  print(num1,\"/\",num2,\"=\",divide(num1,num2))\n",
        "\n",
        "elif choice == 5:\n",
        "  print(\"Factorial of\",num1,\"is\",factorial(num1))\n",
        "\n",
        "else:\n",
        "  print(\"Invalid input\")\n",
        "\n"
      ]
    }
  ]
}