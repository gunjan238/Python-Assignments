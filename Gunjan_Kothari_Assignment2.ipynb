{
  "nbformat": 4,
  "nbformat_minor": 0,
  "metadata": {
    "colab": {
      "provenance": [],
      "collapsed_sections": [],
      "authorship_tag": "ABX9TyN7Bd8o8R5UCKiu+tELlAOf",
      "include_colab_link": true
    },
    "kernelspec": {
      "name": "python3",
      "display_name": "Python 3"
    },
    "language_info": {
      "name": "python"
    }
  },
  "cells": [
    {
      "cell_type": "markdown",
      "metadata": {
        "id": "view-in-github",
        "colab_type": "text"
      },
      "source": [
        "<a href=\"https://colab.research.google.com/github/gunjan238/Python-Assignments/blob/master/Gunjan_Kothari_Assignment2.ipynb\" target=\"_parent\"><img src=\"https://colab.research.google.com/assets/colab-badge.svg\" alt=\"Open In Colab\"/></a>"
      ]
    },
    {
      "cell_type": "markdown",
      "source": [
        "##**ASSIGNMENT 2**\n",
        "\n",
        "To accept the number and Compute a) square root of number, b) Square of number, c) Cube of number d) check for prime, d) factorial of number e) prime factors."
      ],
      "metadata": {
        "id": "S8MF9qrnW2kw"
      }
    },
    {
      "cell_type": "markdown",
      "source": [
        "a)Square root of a number"
      ],
      "metadata": {
        "id": "qm0_6fUHW_j7"
      }
    },
    {
      "cell_type": "code",
      "execution_count": null,
      "metadata": {
        "colab": {
          "base_uri": "https://localhost:8080/"
        },
        "id": "upoAN82HQyk5",
        "outputId": "be980831-5ce2-4615-a312-77928ba00525"
      },
      "outputs": [
        {
          "output_type": "stream",
          "name": "stdout",
          "text": [
            "Enter the number:25\n",
            "The square root of  25 is 5.0\n"
          ]
        }
      ],
      "source": [
        "#To take square root of number we import math library\n",
        "import math\n",
        "\n",
        "#Take number from user\n",
        "num = int(input(\"Enter the number:\"))\n",
        "\n",
        "sq_root = math.sqrt(num)\n",
        "\n",
        "#Print square root of number \n",
        "print(\"The square root of \",num,\"is\",sq_root)"
      ]
    },
    {
      "cell_type": "markdown",
      "source": [
        "b)Square of a number"
      ],
      "metadata": {
        "id": "5ccA3ARRX3U2"
      }
    },
    {
      "cell_type": "code",
      "source": [
        "#Take number from user\n",
        "num = int(input(\"Enter the number:\"))\n",
        "\n",
        "#To print square of given number \n",
        "sq = num ** 2\n",
        "print(\"The square of\",num,\"is\",sq)"
      ],
      "metadata": {
        "colab": {
          "base_uri": "https://localhost:8080/"
        },
        "id": "jxTKqOMyX1Li",
        "outputId": "343bc80b-601c-43de-f18a-fa271f94b667"
      },
      "execution_count": null,
      "outputs": [
        {
          "output_type": "stream",
          "name": "stdout",
          "text": [
            "Enter the number:41\n",
            "The square of 41 is 1681\n"
          ]
        }
      ]
    },
    {
      "cell_type": "markdown",
      "source": [
        "c)Cube of a number "
      ],
      "metadata": {
        "id": "uoAeeOT2ZK80"
      }
    },
    {
      "cell_type": "code",
      "source": [
        "#Take number from user\n",
        "num = int(input(\"Enter the number:\"))\n",
        "\n",
        "#To print cube of given number \n",
        "cube = num ** 3\n",
        "print(\"The cube of\",num,\"is\",cube)"
      ],
      "metadata": {
        "colab": {
          "base_uri": "https://localhost:8080/"
        },
        "id": "4vTs6Bb6ZNxe",
        "outputId": "f1aa2170-11ac-40d1-8f52-7448c5e43134"
      },
      "execution_count": null,
      "outputs": [
        {
          "output_type": "stream",
          "name": "stdout",
          "text": [
            "Enter the number:19\n",
            "The cube of 19 is 6859\n"
          ]
        }
      ]
    },
    {
      "cell_type": "markdown",
      "source": [
        "d)Check for prime number"
      ],
      "metadata": {
        "id": "w3EH0XMIZqf5"
      }
    },
    {
      "cell_type": "code",
      "source": [
        "#Take input from user\n",
        "num = int(input(\"Enter a number: \"))\n",
        "\n",
        "# prime numbers are greater than 1\n",
        "if num > 1:\n",
        "   # check for factors\n",
        "   for i in range(2,num):\n",
        "       if (num % i) == 0:\n",
        "           print(num,\"is not a prime number\")\n",
        "           print(i,\"times\",num//i,\"is\",num)\n",
        "           break\n",
        "   else:\n",
        "       print(num,\"is a prime number\")\n",
        "       \n",
        "# if input number is less than\n",
        "# or equal to 1, it is not prime\n",
        "else:\n",
        "   print(num,\"is not a prime number\")"
      ],
      "metadata": {
        "colab": {
          "base_uri": "https://localhost:8080/"
        },
        "id": "l7mi2qStZw-a",
        "outputId": "5a038ed1-375f-4e73-d2de-556a8a9302e3"
      },
      "execution_count": null,
      "outputs": [
        {
          "output_type": "stream",
          "name": "stdout",
          "text": [
            "Enter a number: 11\n",
            "11 is a prime number\n"
          ]
        }
      ]
    },
    {
      "cell_type": "markdown",
      "source": [
        "d)Factorial of number"
      ],
      "metadata": {
        "id": "mLivzn7qbplp"
      }
    },
    {
      "cell_type": "code",
      "source": [
        "#Take number from user\n",
        "n = int(input(\"Enter a number: \"))\n",
        "\n",
        "fact = 1\n",
        "#Check if number is negative positive or zero\n",
        "if n < 0:\n",
        "  print(\"Factorial do not exist\")\n",
        "\n",
        "elif n == 0:\n",
        "  print(\"Factorial of 0 is 1\")      #Factorial of  is always 1 \n",
        "\n",
        "else:\n",
        "  for i in range(1,n + 1):\n",
        "    fact = fact * i\n",
        "  print(\"The factorial of\",n,\"is\",fact)"
      ],
      "metadata": {
        "colab": {
          "base_uri": "https://localhost:8080/"
        },
        "id": "GdjCfC_bcDoj",
        "outputId": "6ef22340-6dd9-4cb1-d0b4-664f7176dd62"
      },
      "execution_count": null,
      "outputs": [
        {
          "output_type": "stream",
          "name": "stdout",
          "text": [
            "Enter a number: 5\n",
            "The factorial of 5 is 120\n"
          ]
        }
      ]
    },
    {
      "cell_type": "markdown",
      "source": [
        "e)Prime factors\n"
      ],
      "metadata": {
        "id": "LCmkvdZDdnJm"
      }
    },
    {
      "cell_type": "code",
      "source": [
        "import math\n",
        "#Take input from user\n",
        "n = int(input(\"Enter a number: \"))\n",
        "\n",
        "#Define a function prime_factor\n",
        "def prime_factor(n):\n",
        "  while (n % 2) == 0:\n",
        "    print(2,)\n",
        "    n = n/2\n",
        "  for i in range(3,int(math.sqrt(n))+1,2):\n",
        "   while n % i == 0:\n",
        "     print(i,)\n",
        "     n = n/i  \n",
        "  if n > 2:\n",
        "    print(n) \n",
        "\n",
        "#Call function\n",
        "prime_factor(n)"
      ],
      "metadata": {
        "colab": {
          "base_uri": "https://localhost:8080/"
        },
        "id": "mBO6hRILd9XZ",
        "outputId": "eaccb270-6abd-4206-c51a-dc5303e0c31c"
      },
      "execution_count": null,
      "outputs": [
        {
          "output_type": "stream",
          "name": "stdout",
          "text": [
            "Enter a number: 200\n",
            "2\n",
            "2\n",
            "2\n",
            "5\n",
            "5\n"
          ]
        }
      ]
    }
  ]
}