{
  "nbformat": 4,
  "nbformat_minor": 0,
  "metadata": {
    "colab": {
      "provenance": [],
      "authorship_tag": "ABX9TyNJSa6VLFJsrimXjB1nmQ4w",
      "include_colab_link": true
    },
    "kernelspec": {
      "name": "python3",
      "display_name": "Python 3"
    },
    "language_info": {
      "name": "python"
    }
  },
  "cells": [
    {
      "cell_type": "markdown",
      "metadata": {
        "id": "view-in-github",
        "colab_type": "text"
      },
      "source": [
        "<a href=\"https://colab.research.google.com/github/gunjan238/Python-Assignments/blob/master/Gunjan_Kothari_Assignment7.ipynb\" target=\"_parent\"><img src=\"https://colab.research.google.com/assets/colab-badge.svg\" alt=\"Open In Colab\"/></a>"
      ]
    },
    {
      "cell_type": "markdown",
      "source": [
        "##**ASSIGNMENT 7**\n"
      ],
      "metadata": {
        "id": "jMhOnSndGrkS"
      }
    },
    {
      "cell_type": "markdown",
      "source": [
        "\n",
        "To check whether input number is Armstrong number or not.\n"
      ],
      "metadata": {
        "id": "sY6HNu-sHQKa"
      }
    },
    {
      "cell_type": "code",
      "execution_count": null,
      "metadata": {
        "colab": {
          "base_uri": "https://localhost:8080/"
        },
        "id": "zX6E9fPZGqv5",
        "outputId": "a31caad6-1009-4f03-ca2b-fc71070d7638"
      },
      "outputs": [
        {
          "output_type": "stream",
          "name": "stdout",
          "text": [
            "Enter a number: 230\n",
            "The given number 230 is not an Armstrong number\n"
          ]
        }
      ],
      "source": [
        "#Take input from user\n",
        "n = int(input(\"Enter a number: \"))\n",
        "#Assigning input value to armstrong variable\n",
        "arm = n\n",
        "b = len(str(n))\n",
        "#Initial sum\n",
        "Sum = 0\n",
        "while n != 0:\n",
        "  #Remainder\n",
        "  r = n % 10\n",
        "  Sum = Sum + (r ** b)\n",
        "  #Floor division\n",
        "  n = n//10\n",
        "if arm == Sum:\n",
        "  print(\"The given number\",arm,\"is an Armstrong number\")\n",
        "else:\n",
        "  print(\"The given number\",arm,\"is not an Armstrong number\")\n"
      ]
    }
  ]
}