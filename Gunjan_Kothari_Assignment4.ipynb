{
  "nbformat": 4,
  "nbformat_minor": 0,
  "metadata": {
    "colab": {
      "provenance": [],
      "authorship_tag": "ABX9TyOUGtS39n+t9+9z8VpvBsyB",
      "include_colab_link": true
    },
    "kernelspec": {
      "name": "python3",
      "display_name": "Python 3"
    },
    "language_info": {
      "name": "python"
    }
  },
  "cells": [
    {
      "cell_type": "markdown",
      "metadata": {
        "id": "view-in-github",
        "colab_type": "text"
      },
      "source": [
        "<a href=\"https://colab.research.google.com/github/gunjan238/Python-Assignments/blob/master/Gunjan_Kothari_Assignment4.ipynb\" target=\"_parent\"><img src=\"https://colab.research.google.com/assets/colab-badge.svg\" alt=\"Open In Colab\"/></a>"
      ]
    },
    {
      "cell_type": "markdown",
      "source": [
        "##**ASSIGNMENT 4**\n"
      ],
      "metadata": {
        "id": "Ev1GOYnavmHX"
      }
    },
    {
      "cell_type": "markdown",
      "source": [
        "To accept N numbers from user. Compute and display maximum in list, minimum in list, sum and average of numbers. "
      ],
      "metadata": {
        "id": "bGvf1WLsvtWg"
      }
    },
    {
      "cell_type": "code",
      "execution_count": 1,
      "metadata": {
        "colab": {
          "base_uri": "https://localhost:8080/"
        },
        "id": "QzVvhHRipBwQ",
        "outputId": "ed77f503-07ac-4728-ba10-243de676e806"
      },
      "outputs": [
        {
          "output_type": "stream",
          "name": "stdout",
          "text": [
            "Enter the number of elements: 5\n",
            "Enter number: 14\n",
            "Enter number: 25\n",
            "Enter number: 45\n",
            "Enter number: 30\n",
            "Enter number: 20\n",
            "Maximum is:  45\n",
            "Minimum is:  14\n",
            "Count is:  5\n",
            "Sum is:  134\n",
            "Average is:  26.8\n"
          ]
        }
      ],
      "source": [
        "try:\n",
        "  #Take input for n number of elements\n",
        "  n = int(input(\"Enter the number of elements: \"))\n",
        "  num_list = []\n",
        "  for i in range(n):\n",
        "    num = int(input(\"Enter number30: \"))\n",
        "    num_list.append(num)                         #Number get added in list\n",
        "  Maximum = max(num_list)                     #Will give maximum value in list\n",
        "  Minimum = min(num_list)                     #Will give minimum value in list\n",
        "  Sum = sum(num_list)                         #Will return sum\n",
        "  Avg = Sum/len(num_list)                     #Will return average\n",
        "  print(\"Maximum is: \",Maximum)\n",
        "  print(\"Minimum is: \",Minimum)\n",
        "  print(\"Count is: \",len(num_list))\n",
        "  print(\"Sum is: \",Sum)\n",
        "  print(\"Average is: \",Avg)\n",
        "    \n",
        "except ValueError:\n",
        "  print(\"Display all element as integer\")\n",
        "\n",
        "    \n"
      ]
    }
  ]
}