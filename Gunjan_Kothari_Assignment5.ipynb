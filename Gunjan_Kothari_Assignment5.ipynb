{
  "nbformat": 4,
  "nbformat_minor": 0,
  "metadata": {
    "colab": {
      "provenance": [],
      "authorship_tag": "ABX9TyP1rJ8yZDfWUo8CfgxMUSGz",
      "include_colab_link": true
    },
    "kernelspec": {
      "name": "python3",
      "display_name": "Python 3"
    },
    "language_info": {
      "name": "python"
    }
  },
  "cells": [
    {
      "cell_type": "markdown",
      "metadata": {
        "id": "view-in-github",
        "colab_type": "text"
      },
      "source": [
        "<a href=\"https://colab.research.google.com/github/gunjan238/Python-Assignments/blob/master/Gunjan_Kothari_Assignment5.ipynb\" target=\"_parent\"><img src=\"https://colab.research.google.com/assets/colab-badge.svg\" alt=\"Open In Colab\"/></a>"
      ]
    },
    {
      "cell_type": "markdown",
      "source": [
        "##**ASSIGNMENT 5**\n"
      ],
      "metadata": {
        "id": "UnE2j7MVPBhG"
      }
    },
    {
      "cell_type": "markdown",
      "source": [
        "To calculate salary of an employee given his basic pay (take as input from user.Calculate gross salary of employee. Let HRA be 10 % of basic pay and TA be 5% of basic pay. Let employee pay professional tax as 2% of total salary. Calculate net salary payable after deductions. "
      ],
      "metadata": {
        "id": "ZFpOeDFCPi4p"
      }
    },
    {
      "cell_type": "code",
      "execution_count": 3,
      "metadata": {
        "colab": {
          "base_uri": "https://localhost:8080/"
        },
        "id": "iqeaQDzTO7pf",
        "outputId": "6032bdc4-6c1a-4ca6-8a08-7647181ae099"
      },
      "outputs": [
        {
          "output_type": "stream",
          "name": "stdout",
          "text": [
            "Enter your basic pay: 90000\n",
            "Net salary payable after deductions is:  101430.0\n"
          ]
        }
      ],
      "source": [
        "#Take basic pay as input from user\n",
        "basic_pay = int(input(\"Enter your basic pay: \"))\n",
        "\n",
        "try:\n",
        "  if basic_pay < 0 :\n",
        "    print(\"Basic pay cannot be negative\")\n",
        "    exit()\n",
        "  HRA = basic_pay * 0.1                  #HRA is 10% of basic salary\n",
        "  TA = basic_pay * 0.05                  #TA is 5% of basic salary\n",
        "  total_salary = basic_pay + HRA + TA    #Total salary\n",
        "  prof_tax = total_salary * 0.02         #Professional tax is 2% of base salary\n",
        "  payable_salary = total_salary - prof_tax      \n",
        "  print(\"Net salary payable after deductions is: \",payable_salary)\n",
        "except ValueError:\n",
        "  print(\"Enter appropriate value\")"
      ]
    }
  ]
}