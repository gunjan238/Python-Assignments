{
  "nbformat": 4,
  "nbformat_minor": 0,
  "metadata": {
    "colab": {
      "provenance": [],
      "authorship_tag": "ABX9TyNLlqaCZBoOtHkTqj2Cg3m6",
      "include_colab_link": true
    },
    "kernelspec": {
      "name": "python3",
      "display_name": "Python 3"
    },
    "language_info": {
      "name": "python"
    }
  },
  "cells": [
    {
      "cell_type": "markdown",
      "metadata": {
        "id": "view-in-github",
        "colab_type": "text"
      },
      "source": [
        "<a href=\"https://colab.research.google.com/github/gunjan238/Python-Assignments/blob/master/Gunjan_Kothari_Assignment6.ipynb\" target=\"_parent\"><img src=\"https://colab.research.google.com/assets/colab-badge.svg\" alt=\"Open In Colab\"/></a>"
      ]
    },
    {
      "cell_type": "markdown",
      "source": [
        "##**ASSIGNMENT 6**"
      ],
      "metadata": {
        "id": "9mPt8bWlZPFE"
      }
    },
    {
      "cell_type": "markdown",
      "source": [
        "To accept an object mass in kilograms and velocity in meters per second and display its momentum. Momentum is calculated as e=mc where m is the mass of the object and c is its velocity. "
      ],
      "metadata": {
        "id": "b80o7M1WZVzE"
      }
    },
    {
      "cell_type": "code",
      "execution_count": null,
      "metadata": {
        "colab": {
          "base_uri": "https://localhost:8080/"
        },
        "id": "3drL8vpSY3-I",
        "outputId": "07062cb6-8d38-42a5-b1fd-61cfe02d0d82"
      },
      "outputs": [
        {
          "output_type": "stream",
          "name": "stdout",
          "text": [
            "Enter mass in kg: 2.5\n",
            "Enter velocity in m/s: 3\n",
            "Momemtum of given mass and velocity is:  22.5 kg.m/s\n"
          ]
        }
      ],
      "source": [
        "#Take mass and velocity from user\n",
        "mass = float(input(\"Enter mass in kg: \"))\n",
        "velocity = float(input(\"Enter velocity in m/s: \"))\n",
        "\n",
        "#To calculate momentum\n",
        "momentum = mass * (velocity ** 2)\n",
        "print(\"Momemtum of given mass and velocity is: \",momentum,\"kg.m/s\")\n"
      ]
    }
  ]
}