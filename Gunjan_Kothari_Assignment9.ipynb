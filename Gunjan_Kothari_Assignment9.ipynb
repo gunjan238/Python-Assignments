{
  "nbformat": 4,
  "nbformat_minor": 0,
  "metadata": {
    "colab": {
      "provenance": [],
      "authorship_tag": "ABX9TyMb+WkM5/auEFa9FaXq71vN",
      "include_colab_link": true
    },
    "kernelspec": {
      "name": "python3",
      "display_name": "Python 3"
    },
    "language_info": {
      "name": "python"
    }
  },
  "cells": [
    {
      "cell_type": "markdown",
      "metadata": {
        "id": "view-in-github",
        "colab_type": "text"
      },
      "source": [
        "<a href=\"https://colab.research.google.com/github/gunjan238/Python-Assignments/blob/master/Gunjan_Kothari_Assignment9.ipynb\" target=\"_parent\"><img src=\"https://colab.research.google.com/assets/colab-badge.svg\" alt=\"Open In Colab\"/></a>"
      ]
    },
    {
      "cell_type": "markdown",
      "source": [
        "##**ASSIGNMENT 9**"
      ],
      "metadata": {
        "id": "z3aE-mKkyF7B"
      }
    },
    {
      "cell_type": "markdown",
      "source": [
        "Define a Python function remdup(l) that takes a nonempty list of integers l and removes all duplicates in l, keeping only the first occurrence of each number."
      ],
      "metadata": {
        "id": "4nSO45cVyNYk"
      }
    },
    {
      "cell_type": "code",
      "execution_count": null,
      "metadata": {
        "colab": {
          "base_uri": "https://localhost:8080/"
        },
        "id": "8daFghRdxzgb",
        "outputId": "f5900d9e-91b9-4644-8a89-2ff42e5c2a7b"
      },
      "outputs": [
        {
          "output_type": "execute_result",
          "data": {
            "text/plain": [
              "[5, 4, 3, 9, 6, 7, 2]"
            ]
          },
          "metadata": {},
          "execution_count": 4
        }
      ],
      "source": [
        "l = [5,4,3,9,5,6,7,5,6,2,3]\n",
        "\n",
        "#Function to remove duplicate values\n",
        "def remdup(l):\n",
        "\n",
        "  return(myremdup(l,[]))\n",
        "\n",
        "def myremdup(l,s):\n",
        "\n",
        "  if l == []:\n",
        "\n",
        "      return([])\n",
        "\n",
        "  else:\n",
        "\n",
        "      if l[0] in s:\n",
        "\n",
        "          return(myremdup(l[1:],s))\n",
        "\n",
        "      else:\n",
        "\n",
        "          return([l[0]]+myremdup(l[1:],s+[l[0]]))\n",
        "  \n",
        "remdup(l)"
      ]
    }
  ]
}