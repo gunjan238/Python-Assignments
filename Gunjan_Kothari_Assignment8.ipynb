{
  "nbformat": 4,
  "nbformat_minor": 0,
  "metadata": {
    "colab": {
      "provenance": [],
      "authorship_tag": "ABX9TyNCEZmjU08bTaI0NvI7sC0S",
      "include_colab_link": true
    },
    "kernelspec": {
      "name": "python3",
      "display_name": "Python 3"
    },
    "language_info": {
      "name": "python"
    }
  },
  "cells": [
    {
      "cell_type": "markdown",
      "metadata": {
        "id": "view-in-github",
        "colab_type": "text"
      },
      "source": [
        "<a href=\"https://colab.research.google.com/github/gunjan238/Python-Assignments/blob/master/Gunjan_Kothari_Assignment8.ipynb\" target=\"_parent\"><img src=\"https://colab.research.google.com/assets/colab-badge.svg\" alt=\"Open In Colab\"/></a>"
      ]
    },
    {
      "cell_type": "markdown",
      "source": [
        "##**ASSIGNMENT 8**"
      ],
      "metadata": {
        "id": "o5EWqrLWmny4"
      }
    },
    {
      "cell_type": "markdown",
      "source": [
        "To accept two numbers from user and compute smallest divisor and Greatest Common Divisor of these two numbers"
      ],
      "metadata": {
        "id": "CQCtbKYKmzSL"
      }
    },
    {
      "cell_type": "code",
      "source": [
        "#Take input from user\n",
        "n1 = int(input(\"Enter first number: \"))\n",
        "n2 = int(input(\"Enter second number: \"))\n",
        "\n",
        "#Smallest divisor function\n",
        "def small_divisor(a, b):\n",
        "    if a > b:\n",
        "        greater = a\n",
        "    else:\n",
        "        greater = b\n",
        "    while(True):\n",
        "        if((greater % a == 0) and (greater % b == 0)):\n",
        "            small_divisor = greater\n",
        "            break\n",
        "        greater += 1\n",
        "    return small_divisor\n",
        "\n",
        "#Driver code\n",
        "print(\"Smallest divisor is:\", small_divisor(n1,n2))"
      ],
      "metadata": {
        "colab": {
          "base_uri": "https://localhost:8080/"
        },
        "id": "YZhV3lJzuuhJ",
        "outputId": "08acaf2e-38fe-456f-cb9b-b5edc48a84c0"
      },
      "execution_count": null,
      "outputs": [
        {
          "output_type": "stream",
          "name": "stdout",
          "text": [
            "Enter first number: 4\n",
            "Enter second number: 6\n",
            "Smallest divisor is: 12\n"
          ]
        }
      ]
    },
    {
      "cell_type": "code",
      "source": [
        "#Program to compute GCD of two numbers\n",
        "n1 = int(input(\"Enter first number: \"))\n",
        "n2 = int(input(\"Enter second number: \"))\n",
        "\n",
        "#Function greatest common divisor\n",
        "def gcd(x,y):\n",
        "  if(y==0):\n",
        "    return x\n",
        "  else:\n",
        "    return gcd(y,x%y)\n",
        "  \n",
        "#Driver code\n",
        "num = gcd(n1,n2)\n",
        "print(\"GCD of two numbers is: \",num)"
      ],
      "metadata": {
        "colab": {
          "base_uri": "https://localhost:8080/"
        },
        "id": "9oL2VEJdmoHP",
        "outputId": "6392cd34-c7e9-414d-92bf-4842c565d26a"
      },
      "execution_count": null,
      "outputs": [
        {
          "output_type": "stream",
          "name": "stdout",
          "text": [
            "Enter first number: 54\n",
            "Enter second number: 24\n",
            "GCD of two numbers is:  6\n"
          ]
        }
      ]
    }
  ]
}