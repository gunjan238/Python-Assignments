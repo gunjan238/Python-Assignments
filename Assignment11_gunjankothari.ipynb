{
  "nbformat": 4,
  "nbformat_minor": 0,
  "metadata": {
    "colab": {
      "provenance": [],
      "authorship_tag": "ABX9TyOsd/eSk5omsBeN3Xi9ZOZ9",
      "include_colab_link": true
    },
    "kernelspec": {
      "name": "python3",
      "display_name": "Python 3"
    },
    "language_info": {
      "name": "python"
    }
  },
  "cells": [
    {
      "cell_type": "markdown",
      "metadata": {
        "id": "view-in-github",
        "colab_type": "text"
      },
      "source": [
        "<a href=\"https://colab.research.google.com/github/gunjan238/Python-Assignments/blob/master/Assignment11_gunjankothari.ipynb\" target=\"_parent\"><img src=\"https://colab.research.google.com/assets/colab-badge.svg\" alt=\"Open In Colab\"/></a>"
      ]
    },
    {
      "cell_type": "markdown",
      "source": [
        "##**Assignment-11**"
      ],
      "metadata": {
        "id": "OvKO2BAklXRn"
      }
    },
    {
      "cell_type": "markdown",
      "source": [
        "Write a program of Linked List where you can :\n",
        "1. Insert a node at the beginning\n",
        "2. Insert node at end\n",
        "3. Insert node in between two data nodes."
      ],
      "metadata": {
        "id": "R2J49rOzleS9"
      }
    },
    {
      "cell_type": "code",
      "execution_count": null,
      "metadata": {
        "colab": {
          "base_uri": "https://localhost:8080/"
        },
        "id": "fkVvSIFdk8iv",
        "outputId": "01c2397d-6786-4a90-a9c0-10c401cde5ce"
      },
      "outputs": [
        {
          "output_type": "stream",
          "name": "stdout",
          "text": [
            "DBMS\n",
            "Intro to prog\n",
            "Python\n",
            "Statistics\n"
          ]
        }
      ],
      "source": [
        "#Program to insert a node at the beginning\n",
        "\n",
        "class Node:\n",
        "    def __init__(self, dval = None):\n",
        "        self.dval = dval\n",
        "        self.nval = None\n",
        "      \n",
        "class Slinkedlist:\n",
        "    def __init__(self):\n",
        "        self.hval = None\n",
        "    #Print list\n",
        "    def listprint(self):\n",
        "        pval = self.hval\n",
        "        while pval is not None:\n",
        "          print(pval.dval)\n",
        "          pval = pval.nval\n",
        "    \n",
        "    def AtBeginning(self,newdata):\n",
        "        Newnode = Node(newdata)\n",
        "        #Update nodes next value to existing node\n",
        "        Newnode.nval = self.hval\n",
        "        self.hval = Newnode\n",
        "\n",
        "\n",
        "list1 = Slinkedlist()\n",
        "list1.hval = Node(\"Intro to prog\")\n",
        "e2 = Node(\"Python\")\n",
        "e3 = Node(\"Statistics\")\n",
        "\n",
        "list1.hval.nval = e2\n",
        "e2.nval = e3\n",
        "list1.AtBeginning(\"DBMS\")\n",
        "list1.listprint()\n",
        "\n",
        "\n",
        "\n"
      ]
    },
    {
      "cell_type": "code",
      "source": [
        "#Insert a node at end\n",
        "class Node:\n",
        "    def __init__(self,dval = None):\n",
        "        self.dval = dval\n",
        "        self.nval = None\n",
        "\n",
        "class Slinked:\n",
        "    def __init__(self):\n",
        "        self.hval = None\n",
        "    \n",
        "    #Function to add node at end\n",
        "    def Atend(self,ndata):\n",
        "        newnode = Node(ndata)\n",
        "        if self.hval is None:\n",
        "            self.hval = newnode\n",
        "            return\n",
        "        last = self.hval\n",
        "        while(last.nval):\n",
        "            last = last.nval\n",
        "        last.nval = newnode\n",
        "    #Print list\n",
        "    def listprint(self):\n",
        "        pval = self.hval\n",
        "        while pval is not None:\n",
        "          print(pval.dval)\n",
        "          pval = pval.nval\n",
        "        \n",
        "\n",
        "list2 = Slinked()\n",
        "list2.hval = Node(\"Python\")\n",
        "e2 = Node(\"R\")\n",
        "e3 = Node(\"MySQL\")\n",
        "\n",
        "list2.hval.nval = e2\n",
        "e2.nval = e3\n",
        "\n",
        "list2.Atend(\"Stat\")\n",
        "\n",
        "list2.listprint()\n",
        "        \n"
      ],
      "metadata": {
        "id": "0VvZbkupuqLV",
        "colab": {
          "base_uri": "https://localhost:8080/"
        },
        "outputId": "831d1c0f-fa2f-448b-dbaf-445e47820bfd"
      },
      "execution_count": null,
      "outputs": [
        {
          "output_type": "stream",
          "name": "stdout",
          "text": [
            "Python\n",
            "R\n",
            "MySQL\n",
            "Stat\n"
          ]
        }
      ]
    },
    {
      "cell_type": "code",
      "source": [
        "#Insert node in between of two nodes\n",
        "class node:\n",
        "    def __init__(self,dval = None):\n",
        "        self.dval = dval\n",
        "        self.nval = None\n",
        "  \n",
        "class Slinked:\n",
        "    def __init__(self):\n",
        "        self.hval = None\n",
        "\n",
        "    def Inbet(self, mid_node, ndata):\n",
        "        if mid_node is None:\n",
        "            print(\"The mentioned node is absent\")\n",
        "            return\n",
        "        \n",
        "        new_node = node(ndata)\n",
        "        new_node.nval = mid_node.nval\n",
        "        mid_node.nval = new_node\n",
        "    \n",
        "\n",
        "    #Print list\n",
        "    def printlist(self):\n",
        "        pval = self.hval\n",
        "        while pval is not None:\n",
        "            print(pval.dval)\n",
        "            pval = pval.nval\n",
        "\n",
        "list3 = Slinked()\n",
        "list3.hval = node(\"DBMS\")\n",
        "e2 = node(\"IP\")\n",
        "e3 = node(\"Python\")\n",
        "\n",
        "list3.hval.nval = e2\n",
        "e2.nval = e3\n",
        "\n",
        "list3.Inbet(list3.hval,\"Stat\")\n",
        "\n",
        "list3.printlist()\n"
      ],
      "metadata": {
        "colab": {
          "base_uri": "https://localhost:8080/"
        },
        "id": "HJquQv0QSakU",
        "outputId": "407e8074-94d0-48a3-a07c-58fb7bfff91c"
      },
      "execution_count": null,
      "outputs": [
        {
          "output_type": "stream",
          "name": "stdout",
          "text": [
            "DBMS\n",
            "Stat\n",
            "IP\n",
            "Python\n"
          ]
        }
      ]
    }
  ]
}